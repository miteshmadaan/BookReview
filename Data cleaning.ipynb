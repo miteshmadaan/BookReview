{
 "cells": [
  {
   "cell_type": "code",
   "execution_count": 1,
   "metadata": {},
   "outputs": [],
   "source": [
    "import pandas as pd"
   ]
  },
  {
   "cell_type": "code",
   "execution_count": 2,
   "metadata": {
    "scrolled": false
   },
   "outputs": [],
   "source": [
    "df = pd.read_csv(\"booksENG.csv\")"
   ]
  },
  {
   "cell_type": "code",
   "execution_count": 3,
   "metadata": {},
   "outputs": [
    {
     "name": "stdout",
     "output_type": "stream",
     "text": [
      "<class 'pandas.core.frame.DataFrame'>\n",
      "RangeIndex: 10540 entries, 0 to 10539\n",
      "Data columns (total 12 columns):\n",
      "bookID                10540 non-null int64\n",
      "title                 10540 non-null object\n",
      "authors               10540 non-null object\n",
      "average_rating        10540 non-null float64\n",
      "isbn                  10540 non-null object\n",
      "isbn13                10540 non-null float64\n",
      "language_code         10540 non-null object\n",
      "  num_pages           10540 non-null int64\n",
      "ratings_count         10540 non-null int64\n",
      "text_reviews_count    10540 non-null int64\n",
      "publication_date      10540 non-null object\n",
      "publisher             10540 non-null object\n",
      "dtypes: float64(2), int64(4), object(6)\n",
      "memory usage: 988.2+ KB\n"
     ]
    }
   ],
   "source": [
    "df.info()"
   ]
  },
  {
   "cell_type": "markdown",
   "metadata": {},
   "source": [
    "seperate authors\n",
    "number of co-authors\n",
    "age old"
   ]
  },
  {
   "cell_type": "code",
   "execution_count": 4,
   "metadata": {
    "scrolled": true
   },
   "outputs": [
    {
     "data": {
      "text/plain": [
       "Index(['bookID', 'title', 'authors', 'average_rating', 'isbn', 'isbn13',\n",
       "       'language_code', '  num_pages', 'ratings_count', 'text_reviews_count',\n",
       "       'publication_date', 'publisher'],\n",
       "      dtype='object')"
      ]
     },
     "execution_count": 4,
     "metadata": {},
     "output_type": "execute_result"
    }
   ],
   "source": [
    "df.columns"
   ]
  },
  {
   "cell_type": "code",
   "execution_count": 5,
   "metadata": {},
   "outputs": [],
   "source": [
    "def Author_Split(Bookauthor,n):\n",
    "    try:\n",
    "        return Bookauthor.split(\"/\")[n]\n",
    "    except: \n",
    "        return 0"
   ]
  },
  {
   "cell_type": "code",
   "execution_count": 6,
   "metadata": {},
   "outputs": [],
   "source": [
    "df['Bookauthor_no'] = df.authors.apply(lambda x: len(x.split('/')))\n",
    "df['Bookauthor_Main'] = df.authors.apply(lambda x: x.split('/')[0])"
   ]
  },
  {
   "cell_type": "code",
   "execution_count": 7,
   "metadata": {},
   "outputs": [],
   "source": [
    "df['Bookauthor_Co1'] = df.authors.apply(lambda x: Author_Split(x,1))\n",
    "df['Bookauthor_Co2'] = df.authors.apply(lambda x: Author_Split(x,2))"
   ]
  },
  {
   "cell_type": "code",
   "execution_count": 8,
   "metadata": {},
   "outputs": [],
   "source": [
    "df['Age_years'] = df.publication_date.apply(lambda x: 2020-int(x[len(x)-4:len(x)]))"
   ]
  },
  {
   "cell_type": "code",
   "execution_count": 9,
   "metadata": {},
   "outputs": [
    {
     "data": {
      "text/plain": [
       "Index(['bookID', 'title', 'authors', 'average_rating', 'isbn', 'isbn13',\n",
       "       'language_code', '  num_pages', 'ratings_count', 'text_reviews_count',\n",
       "       'publication_date', 'publisher', 'Bookauthor_no', 'Bookauthor_Main',\n",
       "       'Bookauthor_Co1', 'Bookauthor_Co2', 'Bookauthor_Co3', 'Age_years'],\n",
       "      dtype='object')"
      ]
     },
     "execution_count": 9,
     "metadata": {},
     "output_type": "execute_result"
    }
   ],
   "source": [
    "df.columns"
   ]
  },
  {
   "cell_type": "code",
   "execution_count": 10,
   "metadata": {},
   "outputs": [],
   "source": [
    "missing_rating_index = df[(df['ratings_count'] == df['ratings_count'].min()) & (df['average_rating'] != 0.00)].index\n",
    "df.drop(missing_rating_index,inplace=True)\n",
    "df.reset_index(drop=True,inplace=True)"
   ]
  },
  {
   "cell_type": "code",
   "execution_count": 15,
   "metadata": {},
   "outputs": [],
   "source": [
    "df['title'] = df['title'].apply(lambda x: x.split('by')[0].strip() if 'by' in x.lower() else x )"
   ]
  },
  {
   "cell_type": "code",
   "execution_count": 16,
   "metadata": {},
   "outputs": [],
   "source": [
    "df['title_nwords'] = df['title'].apply(lambda x: len(x.split(' ')))"
   ]
  },
  {
   "cell_type": "code",
   "execution_count": 19,
   "metadata": {},
   "outputs": [
    {
     "data": {
      "text/html": [
       "<div>\n",
       "<style scoped>\n",
       "    .dataframe tbody tr th:only-of-type {\n",
       "        vertical-align: middle;\n",
       "    }\n",
       "\n",
       "    .dataframe tbody tr th {\n",
       "        vertical-align: top;\n",
       "    }\n",
       "\n",
       "    .dataframe thead th {\n",
       "        text-align: right;\n",
       "    }\n",
       "</style>\n",
       "<table border=\"1\" class=\"dataframe\">\n",
       "  <thead>\n",
       "    <tr style=\"text-align: right;\">\n",
       "      <th></th>\n",
       "      <th>bookID</th>\n",
       "      <th>title</th>\n",
       "      <th>authors</th>\n",
       "      <th>average_rating</th>\n",
       "      <th>isbn</th>\n",
       "      <th>isbn13</th>\n",
       "      <th>language_code</th>\n",
       "      <th>num_pages</th>\n",
       "      <th>ratings_count</th>\n",
       "      <th>text_reviews_count</th>\n",
       "      <th>publication_date</th>\n",
       "      <th>publisher</th>\n",
       "      <th>Bookauthor_no</th>\n",
       "      <th>Bookauthor_Main</th>\n",
       "      <th>Bookauthor_Co1</th>\n",
       "      <th>Bookauthor_Co2</th>\n",
       "      <th>Age_years</th>\n",
       "      <th>title_nwords</th>\n",
       "    </tr>\n",
       "  </thead>\n",
       "  <tbody>\n",
       "    <tr>\n",
       "      <th>0</th>\n",
       "      <td>5327</td>\n",
       "      <td>A Christmas Carol</td>\n",
       "      <td>Charles Dickens/P.J. Lynch</td>\n",
       "      <td>4.05</td>\n",
       "      <td>763631205</td>\n",
       "      <td>9.780000e+12</td>\n",
       "      <td>en-CA</td>\n",
       "      <td>160</td>\n",
       "      <td>4359</td>\n",
       "      <td>353</td>\n",
       "      <td>09-12-2006</td>\n",
       "      <td>Candlewick Press</td>\n",
       "      <td>2</td>\n",
       "      <td>Charles Dickens</td>\n",
       "      <td>P.J. Lynch</td>\n",
       "      <td>0</td>\n",
       "      <td>14</td>\n",
       "      <td>3</td>\n",
       "    </tr>\n",
       "    <tr>\n",
       "      <th>1</th>\n",
       "      <td>21829</td>\n",
       "      <td>Creepers</td>\n",
       "      <td>David Morrell</td>\n",
       "      <td>3.66</td>\n",
       "      <td>1593153570</td>\n",
       "      <td>9.780000e+12</td>\n",
       "      <td>en-CA</td>\n",
       "      <td>388</td>\n",
       "      <td>4513</td>\n",
       "      <td>515</td>\n",
       "      <td>9/26/2005</td>\n",
       "      <td>CDS Books</td>\n",
       "      <td>1</td>\n",
       "      <td>David Morrell</td>\n",
       "      <td>0</td>\n",
       "      <td>0</td>\n",
       "      <td>15</td>\n",
       "      <td>1</td>\n",
       "    </tr>\n",
       "    <tr>\n",
       "      <th>2</th>\n",
       "      <td>2819</td>\n",
       "      <td>A Circle of Quiet (Crosswicks Journals #1)</td>\n",
       "      <td>Madeleine L'Engle</td>\n",
       "      <td>4.21</td>\n",
       "      <td>62545035</td>\n",
       "      <td>9.780000e+12</td>\n",
       "      <td>en-CA</td>\n",
       "      <td>246</td>\n",
       "      <td>5236</td>\n",
       "      <td>506</td>\n",
       "      <td>01-01-1984</td>\n",
       "      <td>HarperOne</td>\n",
       "      <td>1</td>\n",
       "      <td>Madeleine L'Engle</td>\n",
       "      <td>0</td>\n",
       "      <td>0</td>\n",
       "      <td>36</td>\n",
       "      <td>7</td>\n",
       "    </tr>\n",
       "    <tr>\n",
       "      <th>3</th>\n",
       "      <td>44628</td>\n",
       "      <td>The Last Shot: City Streets  Basketball Dreams</td>\n",
       "      <td>Darcy Frey</td>\n",
       "      <td>4.17</td>\n",
       "      <td>618446710</td>\n",
       "      <td>9.780000e+12</td>\n",
       "      <td>en-CA</td>\n",
       "      <td>233</td>\n",
       "      <td>5106</td>\n",
       "      <td>155</td>\n",
       "      <td>03-03-2004</td>\n",
       "      <td>Mariner Books</td>\n",
       "      <td>1</td>\n",
       "      <td>Darcy Frey</td>\n",
       "      <td>0</td>\n",
       "      <td>0</td>\n",
       "      <td>16</td>\n",
       "      <td>8</td>\n",
       "    </tr>\n",
       "    <tr>\n",
       "      <th>4</th>\n",
       "      <td>18182</td>\n",
       "      <td>A Theory of Fun for Game Design</td>\n",
       "      <td>Raph Koster/Will Wright</td>\n",
       "      <td>3.94</td>\n",
       "      <td>1932111972</td>\n",
       "      <td>9.780000e+12</td>\n",
       "      <td>en-CA</td>\n",
       "      <td>256</td>\n",
       "      <td>2113</td>\n",
       "      <td>181</td>\n",
       "      <td>11-06-2004</td>\n",
       "      <td>Paraglyph Press</td>\n",
       "      <td>2</td>\n",
       "      <td>Raph Koster</td>\n",
       "      <td>Will Wright</td>\n",
       "      <td>0</td>\n",
       "      <td>16</td>\n",
       "      <td>7</td>\n",
       "    </tr>\n",
       "  </tbody>\n",
       "</table>\n",
       "</div>"
      ],
      "text/plain": [
       "   bookID                                           title  \\\n",
       "0    5327                               A Christmas Carol   \n",
       "1   21829                                        Creepers   \n",
       "2    2819      A Circle of Quiet (Crosswicks Journals #1)   \n",
       "3   44628  The Last Shot: City Streets  Basketball Dreams   \n",
       "4   18182                 A Theory of Fun for Game Design   \n",
       "\n",
       "                      authors  average_rating        isbn        isbn13  \\\n",
       "0  Charles Dickens/P.J. Lynch            4.05   763631205  9.780000e+12   \n",
       "1               David Morrell            3.66  1593153570  9.780000e+12   \n",
       "2           Madeleine L'Engle            4.21    62545035  9.780000e+12   \n",
       "3                  Darcy Frey            4.17   618446710  9.780000e+12   \n",
       "4     Raph Koster/Will Wright            3.94  1932111972  9.780000e+12   \n",
       "\n",
       "  language_code    num_pages  ratings_count  text_reviews_count  \\\n",
       "0         en-CA          160           4359                 353   \n",
       "1         en-CA          388           4513                 515   \n",
       "2         en-CA          246           5236                 506   \n",
       "3         en-CA          233           5106                 155   \n",
       "4         en-CA          256           2113                 181   \n",
       "\n",
       "  publication_date         publisher  Bookauthor_no    Bookauthor_Main  \\\n",
       "0       09-12-2006  Candlewick Press              2    Charles Dickens   \n",
       "1        9/26/2005         CDS Books              1      David Morrell   \n",
       "2       01-01-1984         HarperOne              1  Madeleine L'Engle   \n",
       "3       03-03-2004     Mariner Books              1         Darcy Frey   \n",
       "4       11-06-2004   Paraglyph Press              2        Raph Koster   \n",
       "\n",
       "  Bookauthor_Co1 Bookauthor_Co2  Age_years  title_nwords  \n",
       "0     P.J. Lynch              0         14             3  \n",
       "1              0              0         15             1  \n",
       "2              0              0         36             7  \n",
       "3              0              0         16             8  \n",
       "4    Will Wright              0         16             7  "
      ]
     },
     "execution_count": 19,
     "metadata": {},
     "output_type": "execute_result"
    }
   ],
   "source": [
    "df.head()"
   ]
  },
  {
   "cell_type": "code",
   "execution_count": 21,
   "metadata": {},
   "outputs": [
    {
     "data": {
      "text/plain": [
       "Index(['bookID', 'title', 'authors', 'average_rating', 'isbn', 'isbn13',\n",
       "       'language_code', '  num_pages', 'ratings_count', 'text_reviews_count',\n",
       "       'publication_date', 'publisher', 'Bookauthor_no', 'Bookauthor_Main',\n",
       "       'Bookauthor_Co1', 'Bookauthor_Co2', 'Age_years', 'title_nwords'],\n",
       "      dtype='object')"
      ]
     },
     "execution_count": 21,
     "metadata": {},
     "output_type": "execute_result"
    }
   ],
   "source": [
    "df.columns"
   ]
  },
  {
   "cell_type": "code",
   "execution_count": 22,
   "metadata": {},
   "outputs": [],
   "source": [
    "df_out = df[['title', 'average_rating','language_code', '  num_pages', 'ratings_count',\n",
    "             'text_reviews_count','publisher', 'Bookauthor_no', 'Bookauthor_Main',\n",
    "               'Bookauthor_Co1', 'Bookauthor_Co2', 'Age_years', 'title_nwords']]"
   ]
  },
  {
   "cell_type": "code",
   "execution_count": 23,
   "metadata": {},
   "outputs": [
    {
     "data": {
      "text/html": [
       "<div>\n",
       "<style scoped>\n",
       "    .dataframe tbody tr th:only-of-type {\n",
       "        vertical-align: middle;\n",
       "    }\n",
       "\n",
       "    .dataframe tbody tr th {\n",
       "        vertical-align: top;\n",
       "    }\n",
       "\n",
       "    .dataframe thead th {\n",
       "        text-align: right;\n",
       "    }\n",
       "</style>\n",
       "<table border=\"1\" class=\"dataframe\">\n",
       "  <thead>\n",
       "    <tr style=\"text-align: right;\">\n",
       "      <th></th>\n",
       "      <th>title</th>\n",
       "      <th>average_rating</th>\n",
       "      <th>language_code</th>\n",
       "      <th>num_pages</th>\n",
       "      <th>ratings_count</th>\n",
       "      <th>text_reviews_count</th>\n",
       "      <th>publisher</th>\n",
       "      <th>Bookauthor_no</th>\n",
       "      <th>Bookauthor_Main</th>\n",
       "      <th>Bookauthor_Co1</th>\n",
       "      <th>Bookauthor_Co2</th>\n",
       "      <th>Age_years</th>\n",
       "      <th>title_nwords</th>\n",
       "    </tr>\n",
       "  </thead>\n",
       "  <tbody>\n",
       "    <tr>\n",
       "      <th>0</th>\n",
       "      <td>A Christmas Carol</td>\n",
       "      <td>4.05</td>\n",
       "      <td>en-CA</td>\n",
       "      <td>160</td>\n",
       "      <td>4359</td>\n",
       "      <td>353</td>\n",
       "      <td>Candlewick Press</td>\n",
       "      <td>2</td>\n",
       "      <td>Charles Dickens</td>\n",
       "      <td>P.J. Lynch</td>\n",
       "      <td>0</td>\n",
       "      <td>14</td>\n",
       "      <td>3</td>\n",
       "    </tr>\n",
       "    <tr>\n",
       "      <th>1</th>\n",
       "      <td>Creepers</td>\n",
       "      <td>3.66</td>\n",
       "      <td>en-CA</td>\n",
       "      <td>388</td>\n",
       "      <td>4513</td>\n",
       "      <td>515</td>\n",
       "      <td>CDS Books</td>\n",
       "      <td>1</td>\n",
       "      <td>David Morrell</td>\n",
       "      <td>0</td>\n",
       "      <td>0</td>\n",
       "      <td>15</td>\n",
       "      <td>1</td>\n",
       "    </tr>\n",
       "    <tr>\n",
       "      <th>2</th>\n",
       "      <td>A Circle of Quiet (Crosswicks Journals #1)</td>\n",
       "      <td>4.21</td>\n",
       "      <td>en-CA</td>\n",
       "      <td>246</td>\n",
       "      <td>5236</td>\n",
       "      <td>506</td>\n",
       "      <td>HarperOne</td>\n",
       "      <td>1</td>\n",
       "      <td>Madeleine L'Engle</td>\n",
       "      <td>0</td>\n",
       "      <td>0</td>\n",
       "      <td>36</td>\n",
       "      <td>7</td>\n",
       "    </tr>\n",
       "    <tr>\n",
       "      <th>3</th>\n",
       "      <td>The Last Shot: City Streets  Basketball Dreams</td>\n",
       "      <td>4.17</td>\n",
       "      <td>en-CA</td>\n",
       "      <td>233</td>\n",
       "      <td>5106</td>\n",
       "      <td>155</td>\n",
       "      <td>Mariner Books</td>\n",
       "      <td>1</td>\n",
       "      <td>Darcy Frey</td>\n",
       "      <td>0</td>\n",
       "      <td>0</td>\n",
       "      <td>16</td>\n",
       "      <td>8</td>\n",
       "    </tr>\n",
       "    <tr>\n",
       "      <th>4</th>\n",
       "      <td>A Theory of Fun for Game Design</td>\n",
       "      <td>3.94</td>\n",
       "      <td>en-CA</td>\n",
       "      <td>256</td>\n",
       "      <td>2113</td>\n",
       "      <td>181</td>\n",
       "      <td>Paraglyph Press</td>\n",
       "      <td>2</td>\n",
       "      <td>Raph Koster</td>\n",
       "      <td>Will Wright</td>\n",
       "      <td>0</td>\n",
       "      <td>16</td>\n",
       "      <td>7</td>\n",
       "    </tr>\n",
       "  </tbody>\n",
       "</table>\n",
       "</div>"
      ],
      "text/plain": [
       "                                            title  average_rating  \\\n",
       "0                               A Christmas Carol            4.05   \n",
       "1                                        Creepers            3.66   \n",
       "2      A Circle of Quiet (Crosswicks Journals #1)            4.21   \n",
       "3  The Last Shot: City Streets  Basketball Dreams            4.17   \n",
       "4                 A Theory of Fun for Game Design            3.94   \n",
       "\n",
       "  language_code    num_pages  ratings_count  text_reviews_count  \\\n",
       "0         en-CA          160           4359                 353   \n",
       "1         en-CA          388           4513                 515   \n",
       "2         en-CA          246           5236                 506   \n",
       "3         en-CA          233           5106                 155   \n",
       "4         en-CA          256           2113                 181   \n",
       "\n",
       "          publisher  Bookauthor_no    Bookauthor_Main Bookauthor_Co1  \\\n",
       "0  Candlewick Press              2    Charles Dickens     P.J. Lynch   \n",
       "1         CDS Books              1      David Morrell              0   \n",
       "2         HarperOne              1  Madeleine L'Engle              0   \n",
       "3     Mariner Books              1         Darcy Frey              0   \n",
       "4   Paraglyph Press              2        Raph Koster    Will Wright   \n",
       "\n",
       "  Bookauthor_Co2  Age_years  title_nwords  \n",
       "0              0         14             3  \n",
       "1              0         15             1  \n",
       "2              0         36             7  \n",
       "3              0         16             8  \n",
       "4              0         16             7  "
      ]
     },
     "execution_count": 23,
     "metadata": {},
     "output_type": "execute_result"
    }
   ],
   "source": [
    "df_out.head()"
   ]
  },
  {
   "cell_type": "code",
   "execution_count": 48,
   "metadata": {},
   "outputs": [],
   "source": [
    "df_out.to_csv(\"booksENG_ref.csv\",index=False)"
   ]
  }
 ],
 "metadata": {
  "kernelspec": {
   "display_name": "Python 3",
   "language": "python",
   "name": "python3"
  },
  "language_info": {
   "codemirror_mode": {
    "name": "ipython",
    "version": 3
   },
   "file_extension": ".py",
   "mimetype": "text/x-python",
   "name": "python",
   "nbconvert_exporter": "python",
   "pygments_lexer": "ipython3",
   "version": "3.7.3"
  }
 },
 "nbformat": 4,
 "nbformat_minor": 2
}
