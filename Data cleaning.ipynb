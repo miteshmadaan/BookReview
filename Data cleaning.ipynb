{
 "cells": [
  {
   "cell_type": "code",
   "execution_count": 3,
   "metadata": {},
   "outputs": [],
   "source": [
    "import pandas as pd"
   ]
  },
  {
   "cell_type": "code",
   "execution_count": 74,
   "metadata": {
    "scrolled": false
   },
   "outputs": [],
   "source": [
    "df = pd.read_csv(\"booksENG.csv\")"
   ]
  },
  {
   "cell_type": "code",
   "execution_count": 75,
   "metadata": {},
   "outputs": [
    {
     "name": "stdout",
     "output_type": "stream",
     "text": [
      "<class 'pandas.core.frame.DataFrame'>\n",
      "RangeIndex: 10540 entries, 0 to 10539\n",
      "Data columns (total 12 columns):\n",
      "bookID                10540 non-null int64\n",
      "title                 10540 non-null object\n",
      "authors               10540 non-null object\n",
      "average_rating        10540 non-null float64\n",
      "isbn                  10540 non-null object\n",
      "isbn13                10540 non-null float64\n",
      "language_code         10540 non-null object\n",
      "  num_pages           10540 non-null int64\n",
      "ratings_count         10540 non-null int64\n",
      "text_reviews_count    10540 non-null int64\n",
      "publication_date      10540 non-null object\n",
      "publisher             10540 non-null object\n",
      "dtypes: float64(2), int64(4), object(6)\n",
      "memory usage: 988.2+ KB\n"
     ]
    }
   ],
   "source": [
    "df.info()"
   ]
  },
  {
   "cell_type": "markdown",
   "metadata": {},
   "source": [
    "seperate authors\n",
    "number of co-authors\n",
    "age old"
   ]
  },
  {
   "cell_type": "code",
   "execution_count": 76,
   "metadata": {},
   "outputs": [
    {
     "data": {
      "text/plain": [
       "Index(['bookID', 'title', 'authors', 'average_rating', 'isbn', 'isbn13',\n",
       "       'language_code', '  num_pages', 'ratings_count', 'text_reviews_count',\n",
       "       'publication_date', 'publisher'],\n",
       "      dtype='object')"
      ]
     },
     "execution_count": 76,
     "metadata": {},
     "output_type": "execute_result"
    }
   ],
   "source": [
    "df.columns"
   ]
  },
  {
   "cell_type": "code",
   "execution_count": 77,
   "metadata": {},
   "outputs": [],
   "source": [
    "def Author_Split(Bookauthor,n):\n",
    "    try:\n",
    "        return Bookauthor.split(\"/\")[n]\n",
    "    except: \n",
    "        return 0"
   ]
  },
  {
   "cell_type": "code",
   "execution_count": 78,
   "metadata": {},
   "outputs": [],
   "source": [
    "df['Bookauthor_no'] = df.authors.apply(lambda x: len(x.split('/')))\n",
    "df['Bookauthor_Main'] = df.authors.apply(lambda x: x.split('/')[0])"
   ]
  },
  {
   "cell_type": "code",
   "execution_count": 79,
   "metadata": {},
   "outputs": [],
   "source": [
    "df['Bookauthor_Co1'] = df.authors.apply(lambda x: Author_Split(x,1))\n",
    "df['Bookauthor_Co2'] = df.authors.apply(lambda x: Author_Split(x,2))\n",
    "df['Bookauthor_Co3'] = df.authors.apply(lambda x: Author_Split(x,3))"
   ]
  },
  {
   "cell_type": "code",
   "execution_count": 80,
   "metadata": {},
   "outputs": [],
   "source": [
    "df['Age_years'] = df.publication_date.apply(lambda x: 2020-int(x[len(x)-4:len(x)]))"
   ]
  },
  {
   "cell_type": "code",
   "execution_count": 81,
   "metadata": {},
   "outputs": [
    {
     "data": {
      "text/plain": [
       "Index(['bookID', 'title', 'authors', 'average_rating', 'isbn', 'isbn13',\n",
       "       'language_code', '  num_pages', 'ratings_count', 'text_reviews_count',\n",
       "       'publication_date', 'publisher', 'Bookauthor_no', 'Bookauthor_Main',\n",
       "       'Bookauthor_Co1', 'Bookauthor_Co2', 'Bookauthor_Co3', 'Age_years'],\n",
       "      dtype='object')"
      ]
     },
     "execution_count": 81,
     "metadata": {},
     "output_type": "execute_result"
    }
   ],
   "source": [
    "df.columns"
   ]
  },
  {
   "cell_type": "code",
   "execution_count": 82,
   "metadata": {},
   "outputs": [],
   "source": [
    "df_out = df[['title','average_rating','language_code', '  num_pages', 'ratings_count', 'text_reviews_count', 'publisher', 'Bookauthor_no', 'Bookauthor_Main','Bookauthor_Co1', 'Bookauthor_Co2', 'Bookauthor_Co3', 'Age_years']]"
   ]
  },
  {
   "cell_type": "code",
   "execution_count": 87,
   "metadata": {},
   "outputs": [],
   "source": [
    "df_out.to_csv(\"booksENG_ref.csv\",index=False)"
   ]
  },
  {
   "cell_type": "code",
   "execution_count": null,
   "metadata": {},
   "outputs": [],
   "source": []
  }
 ],
 "metadata": {
  "kernelspec": {
   "display_name": "Python 3",
   "language": "python",
   "name": "python3"
  },
  "language_info": {
   "codemirror_mode": {
    "name": "ipython",
    "version": 3
   },
   "file_extension": ".py",
   "mimetype": "text/x-python",
   "name": "python",
   "nbconvert_exporter": "python",
   "pygments_lexer": "ipython3",
   "version": "3.7.3"
  }
 },
 "nbformat": 4,
 "nbformat_minor": 2
}
